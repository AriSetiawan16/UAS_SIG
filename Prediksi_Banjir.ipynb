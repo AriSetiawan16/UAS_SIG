{
  "cells": [
    {
      "cell_type": "code",
      "execution_count": 1,
      "metadata": {
        "colab": {
          "base_uri": "https://localhost:8080/"
        },
        "id": "y_c-Zg--B2_5",
        "outputId": "2310bb10-3596-437d-fa3b-737bf46ceb5f"
      },
      "outputs": [
        {
          "output_type": "stream",
          "name": "stdout",
          "text": [
            "Requirement already satisfied: pandas in /usr/local/lib/python3.11/dist-packages (2.2.2)\n",
            "Requirement already satisfied: scikit-learn in /usr/local/lib/python3.11/dist-packages (1.6.1)\n",
            "Requirement already satisfied: matplotlib in /usr/local/lib/python3.11/dist-packages (3.10.0)\n",
            "Requirement already satisfied: seaborn in /usr/local/lib/python3.11/dist-packages (0.13.2)\n",
            "Requirement already satisfied: geopandas in /usr/local/lib/python3.11/dist-packages (1.0.1)\n",
            "Requirement already satisfied: xgboost in /usr/local/lib/python3.11/dist-packages (2.1.4)\n",
            "Requirement already satisfied: numpy>=1.23.2 in /usr/local/lib/python3.11/dist-packages (from pandas) (2.0.2)\n",
            "Requirement already satisfied: python-dateutil>=2.8.2 in /usr/local/lib/python3.11/dist-packages (from pandas) (2.9.0.post0)\n",
            "Requirement already satisfied: pytz>=2020.1 in /usr/local/lib/python3.11/dist-packages (from pandas) (2025.2)\n",
            "Requirement already satisfied: tzdata>=2022.7 in /usr/local/lib/python3.11/dist-packages (from pandas) (2025.2)\n",
            "Requirement already satisfied: scipy>=1.6.0 in /usr/local/lib/python3.11/dist-packages (from scikit-learn) (1.15.3)\n",
            "Requirement already satisfied: joblib>=1.2.0 in /usr/local/lib/python3.11/dist-packages (from scikit-learn) (1.5.1)\n",
            "Requirement already satisfied: threadpoolctl>=3.1.0 in /usr/local/lib/python3.11/dist-packages (from scikit-learn) (3.6.0)\n",
            "Requirement already satisfied: contourpy>=1.0.1 in /usr/local/lib/python3.11/dist-packages (from matplotlib) (1.3.2)\n",
            "Requirement already satisfied: cycler>=0.10 in /usr/local/lib/python3.11/dist-packages (from matplotlib) (0.12.1)\n",
            "Requirement already satisfied: fonttools>=4.22.0 in /usr/local/lib/python3.11/dist-packages (from matplotlib) (4.58.1)\n",
            "Requirement already satisfied: kiwisolver>=1.3.1 in /usr/local/lib/python3.11/dist-packages (from matplotlib) (1.4.8)\n",
            "Requirement already satisfied: packaging>=20.0 in /usr/local/lib/python3.11/dist-packages (from matplotlib) (24.2)\n",
            "Requirement already satisfied: pillow>=8 in /usr/local/lib/python3.11/dist-packages (from matplotlib) (11.2.1)\n",
            "Requirement already satisfied: pyparsing>=2.3.1 in /usr/local/lib/python3.11/dist-packages (from matplotlib) (3.2.3)\n",
            "Requirement already satisfied: pyogrio>=0.7.2 in /usr/local/lib/python3.11/dist-packages (from geopandas) (0.11.0)\n",
            "Requirement already satisfied: pyproj>=3.3.0 in /usr/local/lib/python3.11/dist-packages (from geopandas) (3.7.1)\n",
            "Requirement already satisfied: shapely>=2.0.0 in /usr/local/lib/python3.11/dist-packages (from geopandas) (2.1.1)\n",
            "Requirement already satisfied: nvidia-nccl-cu12 in /usr/local/lib/python3.11/dist-packages (from xgboost) (2.21.5)\n",
            "Requirement already satisfied: certifi in /usr/local/lib/python3.11/dist-packages (from pyogrio>=0.7.2->geopandas) (2025.4.26)\n",
            "Requirement already satisfied: six>=1.5 in /usr/local/lib/python3.11/dist-packages (from python-dateutil>=2.8.2->pandas) (1.17.0)\n"
          ]
        }
      ],
      "source": [
        "!pip install pandas scikit-learn matplotlib seaborn geopandas xgboost"
      ]
    },
    {
      "cell_type": "code",
      "execution_count": 2,
      "metadata": {
        "id": "yskMpKQW_AVE"
      },
      "outputs": [],
      "source": [
        "# Import library yang dibutuhkan\n",
        "import pandas as pd\n",
        "import numpy as np\n",
        "import seaborn as sns\n",
        "import matplotlib.pyplot as plt\n",
        "import geopandas as gpd\n",
        "import zipfile\n",
        "import os\n",
        "\n",
        "# Model dan Metrik dari Scikit-learn\n",
        "from sklearn.preprocessing import MinMaxScaler\n",
        "from sklearn.model_selection import train_test_split, GridSearchCV\n",
        "from sklearn.ensemble import RandomForestClassifier, GradientBoostingClassifier\n",
        "from sklearn.svm import SVC\n",
        "from sklearn.linear_model import LogisticRegression\n",
        "from sklearn.metrics import classification_report, confusion_matrix, accuracy_score\n",
        "from sklearn.model_selection import cross_val_score\n",
        "\n",
        "# Model XGBoost\n",
        "from xgboost import XGBClassifier\n",
        "\n",
        "# Untuk upload file di Colab\n",
        "from google.colab import files\n",
        "\n",
        "# Untuk legenda peta\n",
        "import matplotlib.patches as mpatches"
      ]
    },
    {
      "cell_type": "code",
      "execution_count": 3,
      "metadata": {
        "colab": {
          "base_uri": "https://localhost:8080/"
        },
        "id": "BvPOamb6CK1f",
        "outputId": "b2d87522-c31e-4117-c396-e340970388de"
      },
      "outputs": [
        {
          "output_type": "stream",
          "name": "stdout",
          "text": [
            "\n",
            "Data Prediksi Banjir:\n",
            "    Kabupaten/Kota  Prediksi Banjir\n",
            "0    Jakarta Timur                0\n",
            "1  Jakarta Selatan                1\n",
            "2    Jakarta Barat                0\n",
            "3  Jakarta Selatan                0\n",
            "4  Jakarta Selatan                0\n",
            "\n",
            "Data Penggunaan Lahan:\n",
            "    Kabupaten/Kota  Lahan Sawah (ha)  Lahan Permukiman (ha)  \\\n",
            "0  Jakarta Selatan                79                   7041   \n",
            "1  Jakarta Selatan                62                   4105   \n",
            "2  Jakarta Selatan                62                   4886   \n",
            "3    Jakarta Barat                67                   4427   \n",
            "4    Jakarta Barat                81                   9424   \n",
            "\n",
            "   Lahan Perkebunan (ha)  Lahan Hutan (ha)  Lahan Terbuka (ha)  \\\n",
            "0                    136               109                1627   \n",
            "1                    167               137                1603   \n",
            "2                    149               195                1781   \n",
            "3                    123               191                2946   \n",
            "4                    118               180                2404   \n",
            "\n",
            "   Total Luas Penggunaan Lahan (ha)  \n",
            "0                              8992  \n",
            "1                              6074  \n",
            "2                              7073  \n",
            "3                              7754  \n",
            "4                             12207  \n",
            "\n",
            "Data Riwayat Banjir:\n",
            "   ID           Lokasi  Tahun  Bulan  Ketinggian Air (cm)  \\\n",
            "0   1    Jakarta Pusat   2021      4            79.841826   \n",
            "1   2    Jakarta Utara   2022      2           140.787559   \n",
            "2   3    Jakarta Pusat   2020      8           101.824175   \n",
            "3   4  Jakarta Selatan   2019      8           171.581337   \n",
            "4   5    Jakarta Timur   2021     10           179.775461   \n",
            "\n",
            "   Jumlah KK Terdampak Tingkat Kerusakan  \n",
            "0                  160            Ringan  \n",
            "1                  236            Ringan  \n",
            "2                  318            Ringan  \n",
            "3                  278            Ringan  \n",
            "4                  205            Ringan  \n",
            "\n",
            "Data Non-Spasial:\n",
            "   ID         Lokasi  Curah Hujan (mm)  Ketinggian (mdpl)  \\\n",
            "0   1  Jakarta Barat        219.860985                  3   \n",
            "1   2  Jakarta Timur        150.813415                  5   \n",
            "2   3  Jakarta Timur        139.096586                  2   \n",
            "3   4  Jakarta Barat        167.881545                 14   \n",
            "4   5  Jakarta Pusat        180.955804                  2   \n",
            "\n",
            "   Kemiringan Lereng (%) Penggunaan Lahan  Pernah Banjir  Tahun Kejadian  \n",
            "0               3.817636        Perumahan              0            2022  \n",
            "1               7.041328        Perumahan              1            2021  \n",
            "2               5.228098        Perumahan              0              -1  \n",
            "3               4.581076        Komersial              0            2022  \n",
            "4               6.639854        Perumahan              1            2021  \n",
            "\n",
            "Data Curah Hujan:\n",
            "   ID               Stasiun  Tahun  Bulan  Curah Hujan (mm)\n",
            "0   1  Stasiun BMKG Jakarta   2018      8        232.294521\n",
            "1   2  Stasiun BMKG Jakarta   2021      2        145.047762\n",
            "2   3  Stasiun BMKG Jakarta   2018     11        262.614183\n",
            "3   4  Stasiun BMKG Jakarta   2020      1        208.064977\n",
            "4   5  Stasiun BMKG Jakarta   2018      7        232.206188\n"
          ]
        }
      ],
      "source": [
        "file_paths = [\n",
        "    '/content/DKI_prediksi_banjir.csv',\n",
        "    '/content/DKI_penggunaan_lahan.csv',\n",
        "    '/content/DKI_riwayat_banjir.csv',\n",
        "    '/content/DKI_non_spasial.csv',\n",
        "    '/content/DKI_curah_hujan.csv'\n",
        "]\n",
        "\n",
        "# Membaca data dari file CSV\n",
        "df_prediksi_banjir = pd.read_csv(file_paths[0])\n",
        "df_penggunaan_lahan = pd.read_csv(file_paths[1])\n",
        "df_riwayat_banjir = pd.read_csv(file_paths[2])\n",
        "df_non_spasial = pd.read_csv(file_paths[3])\n",
        "df_curah_hujan = pd.read_csv(file_paths[4])\n",
        "\n",
        "# Menampilkan 5 baris pertama untuk memeriksa data\n",
        "print(\"\\nData Prediksi Banjir:\")\n",
        "print(df_prediksi_banjir.head())\n",
        "\n",
        "print(\"\\nData Penggunaan Lahan:\")\n",
        "print(df_penggunaan_lahan.head())\n",
        "\n",
        "print(\"\\nData Riwayat Banjir:\")\n",
        "print(df_riwayat_banjir.head())\n",
        "\n",
        "print(\"\\nData Non-Spasial:\")\n",
        "print(df_non_spasial.head())\n",
        "\n",
        "print(\"\\nData Curah Hujan:\")\n",
        "print(df_curah_hujan.head())\n"
      ]
    },
    {
      "cell_type": "code",
      "execution_count": 4,
      "metadata": {
        "colab": {
          "base_uri": "https://localhost:8080/"
        },
        "id": "Yjd-xEA3CN2e",
        "outputId": "3e4d6b71-3886-41a8-cd57-5e683995569f"
      },
      "outputs": [
        {
          "output_type": "stream",
          "name": "stdout",
          "text": [
            "\n",
            "Data Gabungan setelah Penggabungan Non-Spasial:\n",
            "    Kabupaten/Kota  Lahan Sawah (ha)  Lahan Permukiman (ha)  \\\n",
            "0  Jakarta Selatan                79                   7041   \n",
            "1  Jakarta Selatan                79                   7041   \n",
            "2  Jakarta Selatan                79                   7041   \n",
            "3  Jakarta Selatan                79                   7041   \n",
            "4  Jakarta Selatan                79                   7041   \n",
            "\n",
            "   Lahan Perkebunan (ha)  Lahan Hutan (ha)  Lahan Terbuka (ha)  \\\n",
            "0                    136               109                1627   \n",
            "1                    136               109                1627   \n",
            "2                    136               109                1627   \n",
            "3                    136               109                1627   \n",
            "4                    136               109                1627   \n",
            "\n",
            "   Total Luas Penggunaan Lahan (ha)  ID_x         Lokasi_x  Tahun_x  ...  \\\n",
            "0                              8992     4  Jakarta Selatan     2019  ...   \n",
            "1                              8992     4  Jakarta Selatan     2019  ...   \n",
            "2                              8992     4  Jakarta Selatan     2019  ...   \n",
            "3                              8992     4  Jakarta Selatan     2019  ...   \n",
            "4                              8992     4  Jakarta Selatan     2019  ...   \n",
            "\n",
            "   Bulan_y  Curah Hujan (mm)_x  ID_y         Lokasi_y Curah Hujan (mm)_y  \\\n",
            "0        1          208.064977     8  Jakarta Selatan         188.859108   \n",
            "1        1          208.064977     9  Jakarta Selatan         125.269242   \n",
            "2        1          208.064977    10  Jakarta Selatan         129.868175   \n",
            "3        1          208.064977    12  Jakarta Selatan         217.701809   \n",
            "4        1          208.064977    17  Jakarta Selatan         188.593060   \n",
            "\n",
            "   Ketinggian (mdpl)  Kemiringan Lereng (%)  Penggunaan Lahan  Pernah Banjir  \\\n",
            "0                 10              10.677021         Perumahan              1   \n",
            "1                 13               9.076206          Industri              1   \n",
            "2                 16               3.062138          Campuran              0   \n",
            "3                 11              10.079573         Perumahan              1   \n",
            "4                  7               7.773534         Komersial              0   \n",
            "\n",
            "  Tahun Kejadian  \n",
            "0           2022  \n",
            "1           2021  \n",
            "2           2020  \n",
            "3           2022  \n",
            "4           2019  \n",
            "\n",
            "[5 rows x 26 columns]\n"
          ]
        }
      ],
      "source": [
        "# Menggabungkan data berdasarkan kolom 'Kabupaten/Kota' dan 'Lokasi'\n",
        "df_combined = pd.merge(df_penggunaan_lahan, df_riwayat_banjir, left_on=\"Kabupaten/Kota\", right_on=\"Lokasi\", how=\"left\")\n",
        "\n",
        "# Menambahkan data curah hujan berdasarkan kolom 'ID'\n",
        "df_combined = pd.merge(df_combined, df_curah_hujan, on=\"ID\", how=\"left\")\n",
        "\n",
        "# Menambahkan data non spasial berdasarkan kolom 'Lokasi' di df_non_spasial dan 'Kabupaten/Kota' di df_combined\n",
        "df_combined = pd.merge(df_combined, df_non_spasial, left_on=\"Kabupaten/Kota\", right_on=\"Lokasi\", how=\"left\")\n",
        "\n",
        "# Menampilkan hasil gabungan\n",
        "print(\"\\nData Gabungan setelah Penggabungan Non-Spasial:\")\n",
        "print(df_combined.head())\n",
        "\n"
      ]
    },
    {
      "cell_type": "code",
      "execution_count": 5,
      "metadata": {
        "colab": {
          "base_uri": "https://localhost:8080/"
        },
        "id": "cs4Iu7w8Ddv5",
        "outputId": "63972723-4d8a-4757-8be6-379e49df53e8"
      },
      "outputs": [
        {
          "output_type": "stream",
          "name": "stdout",
          "text": [
            "\n",
            "Data dengan Fitur Persentase Penggunaan Lahan:\n",
            "    Kabupaten/Kota   %_Hutan  %_Permukiman  Pernah Banjir\n",
            "0  Jakarta Selatan  1.212189     78.302936              1\n",
            "1  Jakarta Selatan  1.212189     78.302936              1\n",
            "2  Jakarta Selatan  1.212189     78.302936              0\n",
            "3  Jakarta Selatan  1.212189     78.302936              1\n",
            "4  Jakarta Selatan  1.212189     78.302936              0\n"
          ]
        }
      ],
      "source": [
        "# Membuat salinan dataframe untuk fitur baru\n",
        "df_engineered = df_combined.copy()\n",
        "\n",
        "# Menghitung persentase untuk setiap jenis lahan\n",
        "df_engineered['%_Sawah'] = (df_engineered['Lahan Sawah (ha)'] / df_engineered['Total Luas Penggunaan Lahan (ha)']) * 100\n",
        "df_engineered['%_Permukiman'] = (df_engineered['Lahan Permukiman (ha)'] / df_engineered['Total Luas Penggunaan Lahan (ha)']) * 100\n",
        "df_engineered['%_Perkebunan'] = (df_engineered['Lahan Perkebunan (ha)'] / df_engineered['Total Luas Penggunaan Lahan (ha)']) * 100\n",
        "df_engineered['%_Hutan'] = (df_engineered['Lahan Hutan (ha)'] / df_engineered['Total Luas Penggunaan Lahan (ha)']) * 100\n",
        "df_engineered['%_Terbuka'] = (df_engineered['Lahan Terbuka (ha)'] / df_engineered['Total Luas Penggunaan Lahan (ha)']) * 100\n",
        "\n",
        "# Menampilkan fitur yang baru dibuat\n",
        "print(\"\\nData dengan Fitur Persentase Penggunaan Lahan:\")\n",
        "print(df_engineered[['Kabupaten/Kota', '%_Hutan', '%_Permukiman', 'Pernah Banjir']].head())\n"
      ]
    },
    {
      "cell_type": "code",
      "execution_count": 6,
      "metadata": {
        "colab": {
          "base_uri": "https://localhost:8080/"
        },
        "id": "SF2n-9GCDj-r",
        "outputId": "f3bb15d9-32ef-476d-f728-1ca9e2622dad"
      },
      "outputs": [
        {
          "output_type": "stream",
          "name": "stdout",
          "text": [
            "Shape X_lstm: (2595017, 1, 6), Shape y_lstm: (2595017,)\n",
            "Shape X_train: (1816511, 1, 6), Shape X_test: (778506, 1, 6)\n"
          ]
        }
      ],
      "source": [
        "# Memilih fitur yang akan digunakan untuk prediksi\n",
        "features = ['%_Sawah', '%_Permukiman', '%_Perkebunan', '%_Hutan', '%_Terbuka', 'Curah Hujan (mm)_y']\n",
        "X = df_engineered[features].values\n",
        "y = df_engineered['Pernah Banjir'].values\n",
        "\n",
        "# Normalisasi data\n",
        "scaler = MinMaxScaler(feature_range=(0, 1))\n",
        "X_scaled = scaler.fit_transform(X)\n",
        "\n",
        "# Mengubah data menjadi format yang sesuai untuk LSTM\n",
        "def create_dataset(data, target, timestep=1):\n",
        "    X, y = [], []\n",
        "    for i in range(len(data) - timestep):\n",
        "        X.append(data[i:(i + timestep), :])  # Mengambil data dari timestep sebelumnya\n",
        "        y.append(target[i + timestep])  # Mengambil target pada timestep berikutnya\n",
        "    return np.array(X), np.array(y)\n",
        "\n",
        "# Menggunakan timestep=1 agar bisa bekerja dengan data yang lebih sedikit\n",
        "timestep = 1  # Menggunakan 1 hari terakhir untuk prediksi\n",
        "X_lstm, y_lstm = create_dataset(X_scaled, y, timestep)\n",
        "\n",
        "# Memeriksa ukuran X_lstm dan y_lstm setelah perubahan timestep\n",
        "print(f\"Shape X_lstm: {X_lstm.shape}, Shape y_lstm: {y_lstm.shape}\")\n",
        "\n",
        "# Membagi data menjadi data latih dan uji\n",
        "X_train, X_test, y_train, y_test = train_test_split(X_lstm, y_lstm, test_size=0.3, random_state=42)\n",
        "\n",
        "# Menampilkan shape data latih dan uji\n",
        "print(f\"Shape X_train: {X_train.shape}, Shape X_test: {X_test.shape}\")"
      ]
    },
    {
      "cell_type": "code",
      "execution_count": 7,
      "metadata": {
        "colab": {
          "base_uri": "https://localhost:8080/",
          "height": 657
        },
        "id": "Z0CPJbpuFCUp",
        "outputId": "2c9d9ecd-f0f9-463b-b25f-273bab72b3c2"
      },
      "outputs": [
        {
          "output_type": "stream",
          "name": "stdout",
          "text": [
            "Akurasi Model Random Forest: 0.9999\n",
            "\n",
            "Laporan Klasifikasi Model Random Forest:\n",
            "              precision    recall  f1-score   support\n",
            "\n",
            "           0       1.00      1.00      1.00    242450\n",
            "           1       1.00      1.00      1.00    536056\n",
            "\n",
            "    accuracy                           1.00    778506\n",
            "   macro avg       1.00      1.00      1.00    778506\n",
            "weighted avg       1.00      1.00      1.00    778506\n",
            "\n"
          ]
        },
        {
          "output_type": "display_data",
          "data": {
            "text/plain": [
              "<Figure size 640x480 with 2 Axes>"
            ],
            "image/png": "[encoded data removed]"
          },
          "metadata": {}
        }
      ],
      "source": [
        "# Memilih model Random Forest\n",
        "rf_model = RandomForestClassifier(n_estimators=100, random_state=42)\n",
        "\n",
        "# Melatih model\n",
        "rf_model.fit(X_train.reshape(X_train.shape[0], -1), y_train)\n",
        "\n",
        "# Prediksi dan evaluasi\n",
        "y_pred = rf_model.predict(X_test.reshape(X_test.shape[0], -1))\n",
        "\n",
        "# Akurasi\n",
        "accuracy = accuracy_score(y_test, y_pred)\n",
        "print(f\"Akurasi Model Random Forest: {accuracy:.4f}\")\n",
        "\n",
        "# Laporan Klasifikasi\n",
        "print(\"\\nLaporan Klasifikasi Model Random Forest:\")\n",
        "print(classification_report(y_test, y_pred))\n",
        "\n",
        "# Matriks Confusion\n",
        "import seaborn as sns\n",
        "import matplotlib.pyplot as plt\n",
        "sns.heatmap(confusion_matrix(y_test, y_pred), annot=True, fmt='g')\n",
        "plt.xlabel(\"Prediksi\")\n",
        "plt.ylabel(\"Aktual\")\n",
        "plt.show()"
      ]
    },
    {
      "cell_type": "code",
      "execution_count": 8,
      "metadata": {
        "colab": {
          "base_uri": "https://localhost:8080/"
        },
        "id": "4chTRn6HGme0",
        "outputId": "f4859ac7-655c-446d-84a0-74cd6327f731"
      },
      "outputs": [
        {
          "output_type": "stream",
          "name": "stdout",
          "text": [
            "Akurasi Cross-Validation: 0.7759 ± 0.0078\n"
          ]
        }
      ],
      "source": [
        "# Melakukan cross-validation dengan 2-fold untuk mengatasi masalah kecilnya dataset\n",
        "cv_scores = cross_val_score(RandomForestClassifier(n_estimators=100, random_state=42), X_scaled, y, cv=5)\n",
        "\n",
        "# Menampilkan rata-rata akurasi dan deviasi standar dari cross-validation\n",
        "print(f\"Akurasi Cross-Validation: {cv_scores.mean():.4f} ± {cv_scores.std():.4f}\")\n"
      ]
    },
    {
      "cell_type": "code",
      "execution_count": 9,
      "metadata": {
        "colab": {
          "base_uri": "https://localhost:8080/",
          "height": 640
        },
        "id": "MICz05vYH4SX",
        "outputId": "761ee72a-628e-4f9e-80f8-5e9307d86d48"
      },
      "outputs": [
        {
          "output_type": "stream",
          "name": "stdout",
          "text": [
            "\n",
            "Classification Report untuk Model Random Forest:\n",
            "              precision    recall  f1-score   support\n",
            "\n",
            "           0       1.00      1.00      1.00    242450\n",
            "           1       1.00      1.00      1.00    536056\n",
            "\n",
            "    accuracy                           1.00    778506\n",
            "   macro avg       1.00      1.00      1.00    778506\n",
            "weighted avg       1.00      1.00      1.00    778506\n",
            "\n"
          ]
        },
        {
          "output_type": "display_data",
          "data": {
            "text/plain": [
              "<Figure size 640x480 with 2 Axes>"
            ],
            "image/png": "[encoded data removed]"
          },
          "metadata": {}
        }
      ],
      "source": [
        "# Mengubah X_train dan X_test dari format 3D menjadi 2D untuk Random Forest\n",
        "X_train_2d = X_train.reshape(X_train.shape[0], -1)\n",
        "X_test_2d = X_test.reshape(X_test.shape[0], -1)\n",
        "\n",
        "# Re-fit the model in case the previous cell was not run\n",
        "# or if you want to ensure it's fitted before prediction in this block\n",
        "rf_model = RandomForestClassifier(n_estimators=100, random_state=42)\n",
        "rf_model.fit(X_train_2d, y_train) # Fit the model before predicting\n",
        "\n",
        "# Melakukan prediksi pada data uji\n",
        "y_pred = rf_model.predict(X_test_2d)\n",
        "\n",
        "# Evaluasi model dengan classification report\n",
        "print(\"\\nClassification Report untuk Model Random Forest:\")\n",
        "print(classification_report(y_test, y_pred))\n",
        "\n",
        "# Matriks konfusi\n",
        "sns.heatmap(confusion_matrix(y_test, y_pred), annot=True, fmt='g')\n",
        "plt.xlabel(\"Prediksi\")\n",
        "plt.ylabel(\"Aktual\")\n",
        "plt.show()\n"
      ]
    },
    {
      "cell_type": "code",
      "execution_count": 10,
      "metadata": {
        "colab": {
          "base_uri": "https://localhost:8080/",
          "height": 678
        },
        "id": "0rywm3afkcHA",
        "outputId": "11c5b1a7-a444-4003-bba4-a4e062d1b991"
      },
      "outputs": [
        {
          "output_type": "stream",
          "name": "stdout",
          "text": [
            "\n",
            "Classification Report untuk Model Random Forest:\n",
            "              precision    recall  f1-score   support\n",
            "\n",
            "           0       1.00      1.00      1.00    242450\n",
            "           1       1.00      1.00      1.00    536056\n",
            "\n",
            "    accuracy                           1.00    778506\n",
            "   macro avg       1.00      1.00      1.00    778506\n",
            "weighted avg       1.00      1.00      1.00    778506\n",
            "\n"
          ]
        },
        {
          "output_type": "display_data",
          "data": {
            "text/plain": [
              "<Figure size 600x500 with 2 Axes>"
            ],
            "image/png": "[encoded data removed]"
          },
          "metadata": {}
        }
      ],
      "source": [
        "# Melakukan prediksi pada data uji dengan model yang sudah terlatih\n",
        "y_pred = rf_model.predict(X_test_2d)  # Pastikan menggunakan model yang sudah terlatih sebelumnya\n",
        "\n",
        "# Menampilkan classification report\n",
        "print(\"\\nClassification Report untuk Model Random Forest:\")\n",
        "print(classification_report(y_test, y_pred))\n",
        "\n",
        "# Matriks Confusion\n",
        "conf_matrix = confusion_matrix(y_test, y_pred)\n",
        "\n",
        "# Visualisasi Matriks Confusion\n",
        "plt.figure(figsize=(6, 5))\n",
        "sns.heatmap(conf_matrix, annot=True, fmt='g', cmap='Blues', xticklabels=['Prediksi 0', 'Prediksi 1'], yticklabels=['Aktual 0', 'Aktual 1'])\n",
        "plt.xlabel(\"Prediksi\")\n",
        "plt.ylabel(\"Aktual\")\n",
        "plt.title(\"Confusion Matrix\")\n",
        "plt.show()"
      ]
    },
    {
      "cell_type": "code",
      "execution_count": 2,
      "metadata": {
        "colab": {
          "base_uri": "https://localhost:8080/",
          "height": 1000
        },
        "id": "_o_WdNebxrZu",
        "outputId": "cd91118d-72df-4d30-f658-feb3fb44e1df"
      },
      "outputs": [
        {
          "output_type": "display_data",
          "data": {
            "text/plain": [
              "<IPython.core.display.HTML object>"
            ],
            "text/html": [
              "\n",
              "     <input type=\"file\" id=\"files-5571b121-c245-4a74-85a7-433cb25d07e7\" name=\"files[]\" multiple disabled\n",
              "        style=\"border:none\" />\n",
              "     <output id=\"result-5571b121-c245-4a74-85a7-433cb25d07e7\">\n",
              "      Upload widget is only available when the cell has been executed in the\n",
              "      current browser session. Please rerun this cell to enable.\n",
              "      </output>\n",
              "      <script>// Copyright 2017 Google LLC\n",
              "//\n",
              "// Licensed under the Apache License, Version 2.0 (the \"License\");\n",
              "// you may not use this file except in compliance with the License.\n",
              "// You may obtain a copy of the License at\n",
              "//\n",
              "//      http://www.apache.org/licenses/LICENSE-2.0\n",
              "//\n",
              "// Unless required by applicable law or agreed to in writing, software\n",
              "// distributed under the License is distributed on an \"AS IS\" BASIS,\n",
              "// WITHOUT WARRANTIES OR CONDITIONS OF ANY KIND, either express or implied.\n",
              "// See the License for the specific language governing permissions and\n",
              "// limitations under the License.\n",
              "\n",
              "/**\n",
              " * @fileoverview Helpers for google.colab Python module.\n",
              " */\n",
              "(function(scope) {\n",
              "function span(text, styleAttributes = {}) {\n",
              "  const element = document.createElement('span');\n",
              "  element.textContent = text;\n",
              "  for (const key of Object.keys(styleAttributes)) {\n",
              "    element.style[key] = styleAttributes[key];\n",
              "  }\n",
              "  return element;\n",
              "}\n",
              "\n",
              "// Max number of bytes which will be uploaded at a time.\n",
              "const MAX_PAYLOAD_SIZE = 100 * 1024;\n",
              "\n",
              "function _uploadFiles(inputId, outputId) {\n",
              "  const steps = uploadFilesStep(inputId, outputId);\n",
              "  const outputElement = document.getElementById(outputId);\n",
              "  // Cache steps on the outputElement to make it available for the next call\n",
              "  // to uploadFilesContinue from Python.\n",
              "  outputElement.steps = steps;\n",
              "\n",
              "  return _uploadFilesContinue(outputId);\n",
              "}\n",
              "\n",
              "// This is roughly an async generator (not supported in the browser yet),\n",
              "// where there are multiple asynchronous steps and the Python side is going\n",
              "// to poll for completion of each step.\n",
              "// This uses a Promise to block the python side on completion of each step,\n",
              "// then passes the result of the previous step as the input to the next step.\n",
              "function _uploadFilesContinue(outputId) {\n",
              "  const outputElement = document.getElementById(outputId);\n",
              "  const steps = outputElement.steps;\n",
              "\n",
              "  const next = steps.next(outputElement.lastPromiseValue);\n",
              "  return Promise.resolve(next.value.promise).then((value) => {\n",
              "    // Cache the last promise value to make it available to the next\n",
              "    // step of the generator.\n",
              "    outputElement.lastPromiseValue = value;\n",
              "    return next.value.response;\n",
              "  });\n",
              "}\n",
              "\n",
              "/**\n",
              " * Generator function which is called between each async step of the upload\n",
              " * process.\n",
              " * @param {string} inputId Element ID of the input file picker element.\n",
              " * @param {string} outputId Element ID of the output display.\n",
              " * @return {!Iterable<!Object>} Iterable of next steps.\n",
              " */\n",
              "function* uploadFilesStep(inputId, outputId) {\n",
              "  const inputElement = document.getElementById(inputId);\n",
              "  inputElement.disabled = false;\n",
              "\n",
              "  const outputElement = document.getElementById(outputId);\n",
              "  outputElement.innerHTML = '';\n",
              "\n",
              "  const pickedPromise = new Promise((resolve) => {\n",
              "    inputElement.addEventListener('change', (e) => {\n",
              "      resolve(e.target.files);\n",
              "    });\n",
              "  });\n",
              "\n",
              "  const cancel = document.createElement('button');\n",
              "  inputElement.parentElement.appendChild(cancel);\n",
              "  cancel.textContent = 'Cancel upload';\n",
              "  const cancelPromise = new Promise((resolve) => {\n",
              "    cancel.onclick = () => {\n",
              "      resolve(null);\n",
              "    };\n",
              "  });\n",
              "\n",
              "  // Wait for the user to pick the files.\n",
              "  const files = yield {\n",
              "    promise: Promise.race([pickedPromise, cancelPromise]),\n",
              "    response: {\n",
              "      action: 'starting',\n",
              "    }\n",
              "  };\n",
              "\n",
              "  cancel.remove();\n",
              "\n",
              "  // Disable the input element since further picks are not allowed.\n",
              "  inputElement.disabled = true;\n",
              "\n",
              "  if (!files) {\n",
              "    return {\n",
              "      response: {\n",
              "        action: 'complete',\n",
              "      }\n",
              "    };\n",
              "  }\n",
              "\n",
              "  for (const file of files) {\n",
              "    const li = document.createElement('li');\n",
              "    li.append(span(file.name, {fontWeight: 'bold'}));\n",
              "    li.append(span(\n",
              "        `(${file.type || 'n/a'}) - ${file.size} bytes, ` +\n",
              "        `last modified: ${\n",
              "            file.lastModifiedDate ? file.lastModifiedDate.toLocaleDateString() :\n",
              "                                    'n/a'} - `));\n",
              "    const percent = span('0% done');\n",
              "    li.appendChild(percent);\n",
              "\n",
              "    outputElement.appendChild(li);\n",
              "\n",
              "    const fileDataPromise = new Promise((resolve) => {\n",
              "      const reader = new FileReader();\n",
              "      reader.onload = (e) => {\n",
              "        resolve(e.target.result);\n",
              "      };\n",
              "      reader.readAsArrayBuffer(file);\n",
              "    });\n",
              "    // Wait for the data to be ready.\n",
              "    let fileData = yield {\n",
              "      promise: fileDataPromise,\n",
              "      response: {\n",
              "        action: 'continue',\n",
              "      }\n",
              "    };\n",
              "\n",
              "    // Use a chunked sending to avoid message size limits. See b/62115660.\n",
              "    let position = 0;\n",
              "    do {\n",
              "      const length = Math.min(fileData.byteLength - position, MAX_PAYLOAD_SIZE);\n",
              "      const chunk = new Uint8Array(fileData, position, length);\n",
              "      position += length;\n",
              "\n",
              "      const base64 = btoa(String.fromCharCode.apply(null, chunk));\n",
              "      yield {\n",
              "        response: {\n",
              "          action: 'append',\n",
              "          file: file.name,\n",
              "          data: base64,\n",
              "        },\n",
              "      };\n",
              "\n",
              "      let percentDone = fileData.byteLength === 0 ?\n",
              "          100 :\n",
              "          Math.round((position / fileData.byteLength) * 100);\n",
              "      percent.textContent = `${percentDone}% done`;\n",
              "\n",
              "    } while (position < fileData.byteLength);\n",
              "  }\n",
              "\n",
              "  // All done.\n",
              "  yield {\n",
              "    response: {\n",
              "      action: 'complete',\n",
              "    }\n",
              "  };\n",
              "}\n",
              "\n",
              "scope.google = scope.google || {};\n",
              "scope.google.colab = scope.google.colab || {};\n",
              "scope.google.colab._files = {\n",
              "  _uploadFiles,\n",
              "  _uploadFilesContinue,\n",
              "};\n",
              "})(self);\n",
              "</script> "
            ]
          },
          "metadata": {}
        },
        {
          "output_type": "stream",
          "name": "stdout",
          "text": [
            "Saving Shapefile.zip to Shapefile.zip\n"
          ]
        },
        {
          "output_type": "display_data",
          "data": {
            "text/plain": [
              "<Figure size 1000x1000 with 1 Axes>"
            ],
            "image/png": "[encoded data removed]"
          },
          "metadata": {}
        }
      ],
      "source": [
        "from google.colab import files\n",
        "import geopandas as gpd\n",
        "import matplotlib.pyplot as plt\n",
        "import matplotlib.patches as mpatches\n",
        "import zipfile, os, pandas as pd\n",
        "\n",
        "# --- 1. Upload Shapefile dan Dataset\n",
        "uploaded = files.upload()  # Upload ZIP Shapefile dan CSV Prediksi\n",
        "zip_file = \"Shapefile.zip\"\n",
        "csv_file = \"DKI_prediksi_banjir.csv\"\n",
        "\n",
        "# --- 2. Ekstrak shapefile\n",
        "extract_dir = \"shapefile_dki\"\n",
        "os.makedirs(extract_dir, exist_ok=True)\n",
        "with zipfile.ZipFile(zip_file, 'r') as zip_ref:\n",
        "    zip_ref.extractall(extract_dir)\n",
        "\n",
        "# --- 3. Cari file .shp\n",
        "def find_shp(folder):\n",
        "    for root, _, files in os.walk(folder):\n",
        "        for file in files:\n",
        "            if file.endswith('.shp') and \"2\" in file.lower():\n",
        "                return os.path.join(root, file)\n",
        "shp_path = find_shp(extract_dir)\n",
        "\n",
        "# --- 4. Load GeoDataFrame\n",
        "gdf = gpd.read_file(shp_path)\n",
        "gdf = gdf[gdf['NAME_1'].str.contains(\"Jakarta\", case=False)].copy()\n",
        "gdf['Kabupaten_Clean'] = gdf['NAME_2'].str.lower().str.replace(\"kota \", \"\").str.replace(\"kabupaten \", \"\").str.strip()\n",
        "\n",
        "# --- 5. Load Data Prediksi\n",
        "df_prediksi = pd.read_csv(csv_file)\n",
        "df_prediksi['Kabupaten_Clean'] = df_prediksi['Kabupaten/Kota'].str.lower().str.replace(\"kota \", \"\").str.replace(\"kabupaten \", \"\").str.strip()\n",
        "\n",
        "# --- 6. Merge Data\n",
        "gdf_merged = gdf.merge(df_prediksi[['Kabupaten_Clean', 'Prediksi Banjir']], on='Kabupaten_Clean', how='left')\n",
        "\n",
        "# --- 7. Plot Choropleth\n",
        "fig, ax = plt.subplots(figsize=(10, 10))\n",
        "gdf_merged.plot(\n",
        "    column='Prediksi Banjir',\n",
        "    cmap='coolwarm_r',\n",
        "    linewidth=0.8,\n",
        "    edgecolor='0.5',\n",
        "    ax=ax,\n",
        "    legend=False,\n",
        "    missing_kwds={\"color\": \"lightgrey\", \"label\": \"Data Tidak Tersedia\"}\n",
        ")\n",
        "\n",
        "# --- 8. Tambahkan Label Wilayah\n",
        "gdf_merged.apply(lambda x: ax.annotate(\n",
        "    text=x['NAME_2'],\n",
        "    xy=x.geometry.centroid.coords[0],\n",
        "    ha='center',\n",
        "    fontsize=8,\n",
        "    bbox={\"boxstyle\": \"round,pad=0.3\", \"fc\": \"white\", \"alpha\": 0.5}\n",
        "), axis=1)\n",
        "\n",
        "# --- 9. Tambahkan Legenda\n",
        "legend_patches = [\n",
        "    mpatches.Patch(color='#b2182b', label='Rawan Banjir (1)'),\n",
        "    mpatches.Patch(color='#67a9cf', label='Tidak Rawan (0)'),\n",
        "    mpatches.Patch(color='lightgrey', label='Data Tidak Tersedia')\n",
        "]\n",
        "ax.legend(handles=legend_patches, loc='lower left')\n",
        "ax.set_title(\"Peta Prediksi Kerawanan Banjir di DKI Jakarta\", fontsize=14)\n",
        "ax.set_axis_off()\n",
        "plt.tight_layout()\n",
        "plt.show()\n"
      ]
    }
  ],
  "metadata": {
    "accelerator": "GPU",
    "colab": {
      "gpuType": "T4",
      "provenance": []
    },
    "kernelspec": {
      "display_name": "Python 3",
      "name": "python3"
    },
    "language_info": {
      "name": "python"
    }
  },
  "nbformat": 4,
  "nbformat_minor": 0
}